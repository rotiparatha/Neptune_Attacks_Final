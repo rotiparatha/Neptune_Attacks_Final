# %%
import pandas as pd
from sklearn.model_selection import train_test_split
from sklearn.preprocessing import StandardScaler, OneHotEncoder
from sklearn.compose import ColumnTransformer
from sklearn.pipeline import Pipeline
from sklearn.ensemble import RandomForestClassifier
from sklearn.metrics import classification_report, confusion_matrix, accuracy_score

# %%
train_data = pd.read_csv('Train_Data.csv')

# %%
X = train_data.drop('attack', axis=1)
y = train_data['attack']

# %%
categorical_cols = ['protocoltype', 'service', 'flag']
numerical_cols = [col for col in X.columns if col not in categorical_cols]

# %%
X_train, X_val, y_train, y_val = train_test_split(X, y, test_size=0.2, random_state=42)

# %%
preprocessor = ColumnTransformer(
    transformers=[
        ('num', StandardScaler(), numerical_cols),
        ('cat', OneHotEncoder(), categorical_cols)
    ])

# %%
model_pipeline = Pipeline(steps=[
    ('preprocessor', preprocessor),
    ('classifier', RandomForestClassifier(n_estimators=100, random_state=42))
])

# %%
model_pipeline.fit(X_train, y_train)

# %%
y_pred = model_pipeline.predict(X_val)

# %%
accuracy = accuracy_score(y_val, y_pred)
conf_matrix = confusion_matrix(y_val, y_pred)
class_report = classification_report(y_val, y_pred)

print(f'Accuracy: {accuracy}')
print(f'Confusion Matrix:\n{conf_matrix}')
print(f'Classification Report:\n{class_report}')

# %%
test_data = pd.read_csv('Test_Data.csv')

# %%
predictions = model_pipeline.predict(test_data)

# %%
submission_format = pd.read_csv('Sample_Submission.csv')

# %%
predictionsdata = pd.DataFrame({
    'attack': predictions
})

# %%
predictionsdata.to_csv('prediction_attack.csv', index=False)

# %%



